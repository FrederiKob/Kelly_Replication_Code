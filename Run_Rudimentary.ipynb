{
  "nbformat": 4,
  "nbformat_minor": 0,
  "metadata": {
    "colab": {
      "provenance": [],
      "authorship_tag": "ABX9TyPLPHfC0FpcrzKQMCAtB+ye",
      "include_colab_link": true
    },
    "kernelspec": {
      "name": "python3",
      "display_name": "Python 3"
    },
    "language_info": {
      "name": "python"
    }
  },
  "cells": [
    {
      "cell_type": "markdown",
      "metadata": {
        "id": "view-in-github",
        "colab_type": "text"
      },
      "source": [
        "<a href=\"https://colab.research.google.com/github/FrederiKob/Kelly_Replication_Code/blob/main/Run_Rudimentary.ipynb\" target=\"_parent\"><img src=\"https://colab.research.google.com/assets/colab-badge.svg\" alt=\"Open In Colab\"/></a>"
      ]
    },
    {
      "cell_type": "markdown",
      "source": [
        "# Use git to make clone of GitHub repository"
      ],
      "metadata": {
        "id": "pDXDDEFcIlGs"
      }
    },
    {
      "cell_type": "code",
      "execution_count": 69,
      "metadata": {
        "colab": {
          "base_uri": "https://localhost:8080/"
        },
        "id": "mPa3om_GBrTo",
        "outputId": "a01a5ea5-5a98-4dec-9f0f-94fb066477f6"
      },
      "outputs": [
        {
          "output_type": "stream",
          "name": "stdout",
          "text": [
            "fatal: destination path 'Kelly_Replication_Code' already exists and is not an empty directory.\n"
          ]
        }
      ],
      "source": [
        "!git clone https://github.com/FrederiKob/Kelly_Replication_Code.git"
      ]
    },
    {
      "cell_type": "markdown",
      "source": [
        "Draw Data from Rudimentary_Replication_Kelly_DataPrep Script"
      ],
      "metadata": {
        "id": "IZtz8XHTIkKp"
      }
    },
    {
      "cell_type": "code",
      "source": [
        "%run \"Rudimentary_Replication_Kelly_DataPrep.ipynb\""
      ],
      "metadata": {
        "colab": {
          "base_uri": "https://localhost:8080/"
        },
        "id": "3T1maTvzLhoE",
        "outputId": "849c6162-099c-4e23-c415-4c40967da671"
      },
      "execution_count": 70,
      "outputs": [
        {
          "output_type": "stream",
          "name": "stderr",
          "text": [
            "/usr/local/lib/python3.10/dist-packages/openpyxl/worksheet/header_footer.py:48: UserWarning: Cannot parse header or footer so it will be ignored\n",
            "  warn(\"\"\"Cannot parse header or footer so it will be ignored\"\"\")\n"
          ]
        }
      ]
    },
    {
      "cell_type": "markdown",
      "source": [
        "Import Library_Function by running script Library_Function"
      ],
      "metadata": {
        "id": "9YTXXkTkL8KL"
      }
    },
    {
      "cell_type": "code",
      "source": [
        "%run \"Library_Function.ipynb\""
      ],
      "metadata": {
        "id": "7UE7s26QMKcN"
      },
      "execution_count": 71,
      "outputs": []
    },
    {
      "cell_type": "markdown",
      "source": [
        "# Begin Rudimentary Run"
      ],
      "metadata": {
        "id": "-x-xiARSL0ok"
      }
    },
    {
      "cell_type": "markdown",
      "source": [
        "Define Parameters for a restricted and rudimentary run-through of the general model script\n",
        "\n",
        "*   Restrict predictions to $P = 12000$ and $alpha = 1000$\n",
        "*   begin and end are reduced to a few years to get a good gist of the quality of the model/similarities to Kelly et al.\n",
        "*   Furthermore, faster run-through, given the reduced computational demand\n",
        "\n"
      ],
      "metadata": {
        "id": "Xh7kMjbcMa1m"
      }
    },
    {
      "cell_type": "code",
      "source": [
        "P = 12000\n",
        "alpha = 1000\n",
        "\n",
        "# 50 should be sufficient to get a grasp of the results\n",
        "max_iterations = 50\n",
        "\n",
        "# begin and end include very volatile period (better portrayal of bheaviour of market timing positions)\n",
        "begin = \"1940-01-01\"\n",
        "end = \"1960-01-01\"\n",
        "# determine the according index location\n",
        "idx_begin = np.where(ret_std.index == begin)[0][0]\n",
        "idx_end = np.where(ret_std.index == end)[0][0]\n",
        "\n",
        "# reduce ret_std and pred_std so that data-load is reduced\n",
        "ret_std = ret_std.iloc[:idx_end+1]\n",
        "pred_std = pred_std.iloc[:idx_end+1,:]"
      ],
      "metadata": {
        "id": "eUs-4ZLgJgav"
      },
      "execution_count": 72,
      "outputs": []
    },
    {
      "cell_type": "markdown",
      "source": [
        "Run Ridge Regression over loops (very sloppy but rudimentary)"
      ],
      "metadata": {
        "id": "HU2_gD2OOq0L"
      }
    },
    {
      "cell_type": "code",
      "source": [
        "np.random.seed(0)\n",
        "w_i_all = generate_w_i(max_iterations=max_iterations, max_P=P)"
      ],
      "metadata": {
        "id": "bd4o3fW1PbBf"
      },
      "execution_count": 73,
      "outputs": []
    },
    {
      "cell_type": "code",
      "source": [
        "from sklearn.linear_model import Ridge\n",
        "\n",
        "res1,res2,res3 = [],[],[]\n",
        "for seed in range(max_iterations):\n",
        "    pred1,pred2,pred3 = [],[],[]\n",
        "    signals = generate_Signals(pred_std=pred_std, P=P, use_seed=seed, w_i_all=w_i_all)\n",
        "\n",
        "    for t in range(idx_begin,idx_end):\n",
        "        x1,y1 = Option_generate_X_y(signals=signals, ret_std=ret_std, idx_start=t, T=12, P=P, vol_stand=True)\n",
        "        clf1 = Ridge(alpha=alpha, fit_intercept=False)\n",
        "        # works in spyder, does not work here??\n",
        "        #clf1.fit(X=x1[0],y=y1[0])\n",
        "        clf1.fit(X=np.asarray(x1[0]),y=y1[0])\n",
        "        # pred1.append(clf1.predict(x1[1])[0])\n",
        "        pred1.append(clf1.predict(np.asarray(x1[1]))[0])\n",
        "\n",
        "        x2,y2 = Option_generate_X_y(signals=signals, ret_std=ret_std, idx_start=t, T=60, P=P, vol_stand=True)\n",
        "        clf2 = Ridge(alpha=alpha, fit_intercept=False)\n",
        "        #clf2.fit(X=x2[0],y=y2[0])\n",
        "        #pred2.append(clf2.predict(x2[1])[0])\n",
        "        clf2.fit(X=np.asarray(x2[0]),y=y2[0])\n",
        "        pred2.append(clf2.predict(np.asarray(x2[1]))[0])\n",
        "\n",
        "        x3,y3 = Option_generate_X_y(signals=signals, ret_std=ret_std, idx_start=t, T=120, P=P, vol_stand=True)\n",
        "        clf3 = Ridge(alpha=alpha, fit_intercept=False)\n",
        "        #clf3.fit(X=x3[0],y=y3[0])\n",
        "        #pred3.append(clf3.predict(x3[1])[0])\n",
        "        clf3.fit(X=np.asarray(x3[0]),y=y3[0])\n",
        "        pred3.append(clf3.predict(np.asarray(x3[1]))[0])\n",
        "\n",
        "    print(\"Iteration number {} out of {} is done!\".format(seed+1,max_iterations))\n",
        "    res1.append(pred1)\n",
        "    res2.append(pred2)\n",
        "    res3.append(pred3)"
      ],
      "metadata": {
        "colab": {
          "base_uri": "https://localhost:8080/"
        },
        "id": "jH8RjVJ0O2-P",
        "outputId": "8176f18c-89b5-4651-bd7f-d4bfe985bddf"
      },
      "execution_count": null,
      "outputs": [
        {
          "output_type": "stream",
          "name": "stdout",
          "text": [
            "Iteration number 0 out of 50 is done!\n",
            "Iteration number 1 out of 50 is done!\n",
            "Iteration number 2 out of 50 is done!\n",
            "Iteration number 3 out of 50 is done!\n",
            "Iteration number 4 out of 50 is done!\n",
            "Iteration number 5 out of 50 is done!\n",
            "Iteration number 6 out of 50 is done!\n",
            "Iteration number 7 out of 50 is done!\n",
            "Iteration number 8 out of 50 is done!\n",
            "Iteration number 9 out of 50 is done!\n",
            "Iteration number 10 out of 50 is done!\n",
            "Iteration number 11 out of 50 is done!\n",
            "Iteration number 12 out of 50 is done!\n",
            "Iteration number 13 out of 50 is done!\n",
            "Iteration number 14 out of 50 is done!\n",
            "Iteration number 15 out of 50 is done!\n",
            "Iteration number 16 out of 50 is done!\n",
            "Iteration number 17 out of 50 is done!\n",
            "Iteration number 18 out of 50 is done!\n",
            "Iteration number 19 out of 50 is done!\n",
            "Iteration number 20 out of 50 is done!\n",
            "Iteration number 21 out of 50 is done!\n",
            "Iteration number 22 out of 50 is done!\n",
            "Iteration number 23 out of 50 is done!\n",
            "Iteration number 24 out of 50 is done!\n",
            "Iteration number 25 out of 50 is done!\n",
            "Iteration number 26 out of 50 is done!\n",
            "Iteration number 27 out of 50 is done!\n",
            "Iteration number 28 out of 50 is done!\n",
            "Iteration number 29 out of 50 is done!\n",
            "Iteration number 30 out of 50 is done!\n",
            "Iteration number 31 out of 50 is done!\n",
            "Iteration number 32 out of 50 is done!\n",
            "Iteration number 33 out of 50 is done!\n",
            "Iteration number 34 out of 50 is done!\n"
          ]
        }
      ]
    },
    {
      "cell_type": "markdown",
      "source": [
        "Plot the results"
      ],
      "metadata": {
        "id": "5-QqfvDhVPWx"
      }
    },
    {
      "cell_type": "code",
      "source": [
        "# make sure not to overwrite resutls\n",
        "results = (res1.copy(), res2.copy(), res3.copy())\n",
        "\n",
        "# make into dataframes\n",
        "plot1 = pd.DataFrame(results[0], columns=ret_std.index[idx_begin:idx_end]).T\n",
        "plot2 = pd.DataFrame(results[1], columns=ret_std.index[idx_begin:idx_end]).T\n",
        "plot3 = pd.DataFrame(results[2], columns=ret_std.index[idx_begin:idx_end]).T\n",
        "\n",
        "# make dictionary --> plot_figure10 needs it (in main python script everything is handled as dicitonary)\n",
        "T_plot = [12,60,120]\n",
        "cmbs = list(itertools.product(T_plot,[P],[alpha]))\n",
        "plot_dic = {cmbs[0]:plot1, cmbs[1]:plot2, cmbs[2]:plot3}\n",
        "\n",
        "plot_fig10(results=plot_dic, T=T_plot, P=P, alpha=alpha, roll_window=6, begin=begin, end=end)"
      ],
      "metadata": {
        "id": "S8JCNmZkVVsf"
      },
      "execution_count": null,
      "outputs": []
    }
  ]
}