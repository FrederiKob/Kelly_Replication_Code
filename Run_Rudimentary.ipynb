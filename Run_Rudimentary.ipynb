{
  "nbformat": 4,
  "nbformat_minor": 0,
  "metadata": {
    "colab": {
      "provenance": [],
      "authorship_tag": "ABX9TyPccvE6AbH/FqhE1mxd8hqA",
      "include_colab_link": true
    },
    "kernelspec": {
      "name": "python3",
      "display_name": "Python 3"
    },
    "language_info": {
      "name": "python"
    }
  },
  "cells": [
    {
      "cell_type": "markdown",
      "metadata": {
        "id": "view-in-github",
        "colab_type": "text"
      },
      "source": [
        "<a href=\"https://colab.research.google.com/github/FrederiKob/Kelly_Replication_Code/blob/main/Run_Rudimentary.ipynb\" target=\"_parent\"><img src=\"https://colab.research.google.com/assets/colab-badge.svg\" alt=\"Open In Colab\"/></a>"
      ]
    },
    {
      "cell_type": "markdown",
      "source": [
        "# Use git to make clone of GitHub repository"
      ],
      "metadata": {
        "id": "pDXDDEFcIlGs"
      }
    },
    {
      "cell_type": "code",
      "execution_count": 33,
      "metadata": {
        "colab": {
          "base_uri": "https://localhost:8080/"
        },
        "id": "mPa3om_GBrTo",
        "outputId": "30c8b61f-eeec-4d93-9a0a-315cd693d2cc"
      },
      "outputs": [
        {
          "output_type": "stream",
          "name": "stdout",
          "text": [
            "Cloning into 'Kelly_Replication_Code'...\n",
            "remote: Enumerating objects: 55, done.\u001b[K\n",
            "remote: Counting objects: 100% (55/55), done.\u001b[K\n",
            "remote: Compressing objects: 100% (55/55), done.\u001b[K\n",
            "remote: Total 55 (delta 30), reused 0 (delta 0), pack-reused 0\u001b[K\n",
            "Receiving objects: 100% (55/55), 475.80 KiB | 12.20 MiB/s, done.\n",
            "Resolving deltas: 100% (30/30), done.\n"
          ]
        }
      ],
      "source": [
        "!git clone https://github.com/FrederiKob/Kelly_Replication_Code.git"
      ]
    },
    {
      "cell_type": "markdown",
      "source": [
        "Draw Data from Rudimentary_Replication_Kelly_DataPrep Script"
      ],
      "metadata": {
        "id": "IZtz8XHTIkKp"
      }
    },
    {
      "cell_type": "code",
      "source": [
        "%run \"Rudimentary_Replication_Kelly_DataPrep.ipynb\""
      ],
      "metadata": {
        "colab": {
          "base_uri": "https://localhost:8080/"
        },
        "id": "3T1maTvzLhoE",
        "outputId": "347ec8c3-b0c0-4659-c2b4-8c516281b5d5"
      },
      "execution_count": 35,
      "outputs": [
        {
          "output_type": "stream",
          "name": "stderr",
          "text": [
            "/usr/local/lib/python3.10/dist-packages/openpyxl/worksheet/header_footer.py:48: UserWarning: Cannot parse header or footer so it will be ignored\n",
            "  warn(\"\"\"Cannot parse header or footer so it will be ignored\"\"\")\n"
          ]
        }
      ]
    },
    {
      "cell_type": "markdown",
      "source": [
        "Import Library_Function by running script Library_Function"
      ],
      "metadata": {
        "id": "9YTXXkTkL8KL"
      }
    },
    {
      "cell_type": "code",
      "source": [
        "%run \"Library_Function.ipynb\""
      ],
      "metadata": {
        "id": "7UE7s26QMKcN"
      },
      "execution_count": 37,
      "outputs": []
    },
    {
      "cell_type": "markdown",
      "source": [
        "# Begin Rudimentary Run"
      ],
      "metadata": {
        "id": "-x-xiARSL0ok"
      }
    },
    {
      "cell_type": "markdown",
      "source": [
        "Define Parameters for a restricted and rudimentary run-through of the general model script\n",
        "\n",
        "*   Restrict predictions to $P = 12000$ and $alpha = 1000$\n",
        "*   begin and end are reduced to a few years to get a good gist of the quality of the model/similarities to Kelly et al.\n",
        "*   Furthermore, faster run-through, given the reduced computational demand\n",
        "\n"
      ],
      "metadata": {
        "id": "Xh7kMjbcMa1m"
      }
    },
    {
      "cell_type": "code",
      "source": [
        "P = 12000\n",
        "alpha = 1000\n",
        "\n",
        "# 50 should be sufficient to get a grasp of the results\n",
        "max_iterations = 50\n",
        "\n",
        "# begin and end include very volatile period (better portrayal of bheaviour of market timing positions)\n",
        "begin = \"1940-01-01\"\n",
        "end = \"1950-01-01\"\n",
        "# determine the according index location\n",
        "idx_begin = np.where(ret_std.index == begin)[0][0]\n",
        "idx_end = np.where(ret_std.index == end)[0][0]\n",
        "\n",
        "# reduce ret_std and pred_std so that data-load is reduced\n",
        "ret_std = ret_std.iloc[:idx_end+1]\n",
        "pred_std = pred_std.iloc[:idx_end+1,:]"
      ],
      "metadata": {
        "id": "eUs-4ZLgJgav"
      },
      "execution_count": null,
      "outputs": []
    },
    {
      "cell_type": "markdown",
      "source": [
        "Run Ridge Regression over loops (very sloppy but rudimentary)"
      ],
      "metadata": {
        "id": "HU2_gD2OOq0L"
      }
    },
    {
      "cell_type": "code",
      "source": [
        "from sklearn.linear_model import Ridge\n",
        "\n",
        "res1,res2,res3 = [],[],[]\n",
        "for seed in range(max_iterations):\n",
        "    pred1,pred2,pred3 = [],[],[]\n",
        "    signals = generate_Signals(pred_std=pred_std, P=P, use_seed=seed, w_i_all=w_i_all)\n",
        "\n",
        "    for t in range(idx_begin,idx_end):\n",
        "        x1,y1 = TEST_generate_X_y(signals=signals, ret_std=ret_std, idx_start=t, T=12, P=P, vol_stand=True)\n",
        "        clf1 = Ridge(alpha=alpha, fit_intercept=False)\n",
        "        clf1.fit(X=x1[0],y=y1[0])\n",
        "        pred1.append(clf1.predict(x1[1])[0])\n",
        "\n",
        "        x2,y2 = TEST_generate_X_y(signals=signals, ret_std=ret_std, idx_start=t, T=60, P=P, vol_stand=True)\n",
        "        clf2 = Ridge(alpha=alpha, fit_intercept=False)\n",
        "        clf2.fit(X=x2[0],y=y2[0])\n",
        "        pred2.append(clf2.predict(x2[1])[0])\n",
        "\n",
        "        x3,y3 = TEST_generate_X_y(signals=signals, ret_std=ret_std, idx_start=t, T=120, P=P, vol_stand=True)\n",
        "        clf3 = Ridge(alpha=alpha, fit_intercept=False)\n",
        "        clf3.fit(X=x3[0],y=y3[0])\n",
        "        pred3.append(clf3.predict(x3[1])[0])\n",
        "\n",
        "    print(\"Iteration number {} out of {} is done!\".format(seed,max_iterations))\n",
        "    res1.append(pred1)\n",
        "    res2.append(pred2)\n",
        "    res3.append(pred3)"
      ],
      "metadata": {
        "id": "jH8RjVJ0O2-P"
      },
      "execution_count": null,
      "outputs": []
    }
  ]
}