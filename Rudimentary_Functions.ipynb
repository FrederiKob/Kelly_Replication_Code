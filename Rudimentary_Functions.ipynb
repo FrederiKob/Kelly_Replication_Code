{
  "nbformat": 4,
  "nbformat_minor": 0,
  "metadata": {
    "colab": {
      "provenance": [],
      "authorship_tag": "ABX9TyPwK5jizbop7wrWvv7lHW0h",
      "include_colab_link": true
    },
    "kernelspec": {
      "name": "python3",
      "display_name": "Python 3"
    },
    "language_info": {
      "name": "python"
    }
  },
  "cells": [
    {
      "cell_type": "markdown",
      "metadata": {
        "id": "view-in-github",
        "colab_type": "text"
      },
      "source": [
        "<a href=\"https://colab.research.google.com/github/FrederiKob/Kelly_Replication_Code/blob/main/Rudimentary_Functions.ipynb\" target=\"_parent\"><img src=\"https://colab.research.google.com/assets/colab-badge.svg\" alt=\"Open In Colab\"/></a>"
      ]
    },
    {
      "cell_type": "markdown",
      "source": [
        "The Function Script includes the following functions:\n",
        "\n",
        "\n",
        "1.   Generate w_i --> generates random N(0,1) draws used in the RFFs\n",
        "2.   Generate Signals --> generates RFF's for a specific seed and for a specific number of P's\n",
        "3.   Generate X and y samples used for fitting and predicting\n",
        "4.   Run predictions over all t's and over multiple iterations\n",
        "\n"
      ],
      "metadata": {
        "id": "BMVsFys8t-zU"
      }
    }
  ]
}